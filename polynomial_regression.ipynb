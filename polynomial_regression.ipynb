{
  "nbformat": 4,
  "nbformat_minor": 0,
  "metadata": {
    "colab": {
      "name": "polynomial_regression.ipynb",
      "provenance": [],
      "authorship_tag": "ABX9TyMMAkjVuEXA7jBKqSrXDxG1",
      "include_colab_link": true
    },
    "kernelspec": {
      "name": "python3",
      "display_name": "Python 3"
    },
    "language_info": {
      "name": "python"
    }
  },
  "cells": [
    {
      "cell_type": "markdown",
      "metadata": {
        "id": "view-in-github",
        "colab_type": "text"
      },
      "source": [
        "<a href=\"https://colab.research.google.com/github/kunalsuryawanshi161718/Polynomial_regression_problem/blob/main/polynomial_regression.ipynb\" target=\"_parent\"><img src=\"https://colab.research.google.com/assets/colab-badge.svg\" alt=\"Open In Colab\"/></a>"
      ]
    },
    {
      "cell_type": "code",
      "execution_count": 1,
      "metadata": {
        "id": "YkLDFUINjEJ2"
      },
      "outputs": [],
      "source": [
        "import pandas as pd\n",
        "import numpy as np\n",
        "nyc_pumpkins = pd.read_csv(\"/content/atlanta_9-24-2016_9-30-2017.csv\")\n",
        "cat_map = {\n",
        "    'sml': 0,\n",
        "    'med': 1,\n",
        "    'med-lge': 2,\n",
        "    'lge': 3,\n",
        "    'xlge': 4,\n",
        "    'exjbo': 5\n",
        "}\n",
        "nyc_pumpkins = nyc_pumpkins.assign(\n",
        "    size=nyc_pumpkins['Item Size'].map(cat_map),\n",
        "    price=nyc_pumpkins['High Price'] + nyc_pumpkins['Low Price'] / 2,\n",
        "    size_class=(nyc_pumpkins['Item Size'].map(cat_map) >= 2).astype(int)\n",
        ")\n",
        "nyc_pumpkins = nyc_pumpkins.drop([c for c in nyc_pumpkins.columns if c not in ['size', 'price', 'size_class']], \n",
        "                                 axis='columns')\n",
        "nyc_pumpkins = nyc_pumpkins.dropna()"
      ]
    },
    {
      "cell_type": "code",
      "source": [
        "nyc_pumpkins.head()"
      ],
      "metadata": {
        "colab": {
          "base_uri": "https://localhost:8080/",
          "height": 206
        },
        "id": "3FJ9r6E8lyOw",
        "outputId": "f5a114b0-a0eb-41c2-c1a5-84d2302be90a"
      },
      "execution_count": 2,
      "outputs": [
        {
          "output_type": "execute_result",
          "data": {
            "text/plain": [
              "   size   price  size_class\n",
              "1   4.0  227.25           1\n",
              "2   2.0  229.75           1\n",
              "3   0.0  225.00           0\n",
              "5   4.0  227.25           1\n",
              "6   2.0  229.75           1"
            ],
            "text/html": [
              "\n",
              "  <div id=\"df-b81809ee-9ed9-4d68-9ede-252d1ec0ea4b\">\n",
              "    <div class=\"colab-df-container\">\n",
              "      <div>\n",
              "<style scoped>\n",
              "    .dataframe tbody tr th:only-of-type {\n",
              "        vertical-align: middle;\n",
              "    }\n",
              "\n",
              "    .dataframe tbody tr th {\n",
              "        vertical-align: top;\n",
              "    }\n",
              "\n",
              "    .dataframe thead th {\n",
              "        text-align: right;\n",
              "    }\n",
              "</style>\n",
              "<table border=\"1\" class=\"dataframe\">\n",
              "  <thead>\n",
              "    <tr style=\"text-align: right;\">\n",
              "      <th></th>\n",
              "      <th>size</th>\n",
              "      <th>price</th>\n",
              "      <th>size_class</th>\n",
              "    </tr>\n",
              "  </thead>\n",
              "  <tbody>\n",
              "    <tr>\n",
              "      <th>1</th>\n",
              "      <td>4.0</td>\n",
              "      <td>227.25</td>\n",
              "      <td>1</td>\n",
              "    </tr>\n",
              "    <tr>\n",
              "      <th>2</th>\n",
              "      <td>2.0</td>\n",
              "      <td>229.75</td>\n",
              "      <td>1</td>\n",
              "    </tr>\n",
              "    <tr>\n",
              "      <th>3</th>\n",
              "      <td>0.0</td>\n",
              "      <td>225.00</td>\n",
              "      <td>0</td>\n",
              "    </tr>\n",
              "    <tr>\n",
              "      <th>5</th>\n",
              "      <td>4.0</td>\n",
              "      <td>227.25</td>\n",
              "      <td>1</td>\n",
              "    </tr>\n",
              "    <tr>\n",
              "      <th>6</th>\n",
              "      <td>2.0</td>\n",
              "      <td>229.75</td>\n",
              "      <td>1</td>\n",
              "    </tr>\n",
              "  </tbody>\n",
              "</table>\n",
              "</div>\n",
              "      <button class=\"colab-df-convert\" onclick=\"convertToInteractive('df-b81809ee-9ed9-4d68-9ede-252d1ec0ea4b')\"\n",
              "              title=\"Convert this dataframe to an interactive table.\"\n",
              "              style=\"display:none;\">\n",
              "        \n",
              "  <svg xmlns=\"http://www.w3.org/2000/svg\" height=\"24px\"viewBox=\"0 0 24 24\"\n",
              "       width=\"24px\">\n",
              "    <path d=\"M0 0h24v24H0V0z\" fill=\"none\"/>\n",
              "    <path d=\"M18.56 5.44l.94 2.06.94-2.06 2.06-.94-2.06-.94-.94-2.06-.94 2.06-2.06.94zm-11 1L8.5 8.5l.94-2.06 2.06-.94-2.06-.94L8.5 2.5l-.94 2.06-2.06.94zm10 10l.94 2.06.94-2.06 2.06-.94-2.06-.94-.94-2.06-.94 2.06-2.06.94z\"/><path d=\"M17.41 7.96l-1.37-1.37c-.4-.4-.92-.59-1.43-.59-.52 0-1.04.2-1.43.59L10.3 9.45l-7.72 7.72c-.78.78-.78 2.05 0 2.83L4 21.41c.39.39.9.59 1.41.59.51 0 1.02-.2 1.41-.59l7.78-7.78 2.81-2.81c.8-.78.8-2.07 0-2.86zM5.41 20L4 18.59l7.72-7.72 1.47 1.35L5.41 20z\"/>\n",
              "  </svg>\n",
              "      </button>\n",
              "      \n",
              "  <style>\n",
              "    .colab-df-container {\n",
              "      display:flex;\n",
              "      flex-wrap:wrap;\n",
              "      gap: 12px;\n",
              "    }\n",
              "\n",
              "    .colab-df-convert {\n",
              "      background-color: #E8F0FE;\n",
              "      border: none;\n",
              "      border-radius: 50%;\n",
              "      cursor: pointer;\n",
              "      display: none;\n",
              "      fill: #1967D2;\n",
              "      height: 32px;\n",
              "      padding: 0 0 0 0;\n",
              "      width: 32px;\n",
              "    }\n",
              "\n",
              "    .colab-df-convert:hover {\n",
              "      background-color: #E2EBFA;\n",
              "      box-shadow: 0px 1px 2px rgba(60, 64, 67, 0.3), 0px 1px 3px 1px rgba(60, 64, 67, 0.15);\n",
              "      fill: #174EA6;\n",
              "    }\n",
              "\n",
              "    [theme=dark] .colab-df-convert {\n",
              "      background-color: #3B4455;\n",
              "      fill: #D2E3FC;\n",
              "    }\n",
              "\n",
              "    [theme=dark] .colab-df-convert:hover {\n",
              "      background-color: #434B5C;\n",
              "      box-shadow: 0px 1px 3px 1px rgba(0, 0, 0, 0.15);\n",
              "      filter: drop-shadow(0px 1px 2px rgba(0, 0, 0, 0.3));\n",
              "      fill: #FFFFFF;\n",
              "    }\n",
              "  </style>\n",
              "\n",
              "      <script>\n",
              "        const buttonEl =\n",
              "          document.querySelector('#df-b81809ee-9ed9-4d68-9ede-252d1ec0ea4b button.colab-df-convert');\n",
              "        buttonEl.style.display =\n",
              "          google.colab.kernel.accessAllowed ? 'block' : 'none';\n",
              "\n",
              "        async function convertToInteractive(key) {\n",
              "          const element = document.querySelector('#df-b81809ee-9ed9-4d68-9ede-252d1ec0ea4b');\n",
              "          const dataTable =\n",
              "            await google.colab.kernel.invokeFunction('convertToInteractive',\n",
              "                                                     [key], {});\n",
              "          if (!dataTable) return;\n",
              "\n",
              "          const docLinkHtml = 'Like what you see? Visit the ' +\n",
              "            '<a target=\"_blank\" href=https://colab.research.google.com/notebooks/data_table.ipynb>data table notebook</a>'\n",
              "            + ' to learn more about interactive tables.';\n",
              "          element.innerHTML = '';\n",
              "          dataTable['output_type'] = 'display_data';\n",
              "          await google.colab.output.renderOutput(dataTable, element);\n",
              "          const docLink = document.createElement('div');\n",
              "          docLink.innerHTML = docLinkHtml;\n",
              "          element.appendChild(docLink);\n",
              "        }\n",
              "      </script>\n",
              "    </div>\n",
              "  </div>\n",
              "  "
            ]
          },
          "metadata": {},
          "execution_count": 2
        }
      ]
    },
    {
      "cell_type": "code",
      "source": [
        "prices = nyc_pumpkins.values[:, :1]\n",
        "sizes = nyc_pumpkins.values[:, 1:2]"
      ],
      "metadata": {
        "id": "LhURkcJFl3ke"
      },
      "execution_count": 3,
      "outputs": []
    },
    {
      "cell_type": "code",
      "source": [
        "from sklearn.preprocessing import PolynomialFeatures\n",
        "from sklearn.linear_model import LinearRegression\n",
        "poly = PolynomialFeatures(degree=2)\n",
        "prices_poly = poly.fit_transform(prices)\n",
        "\n",
        "clf = LinearRegression()\n",
        "clf.fit(prices_poly, sizes)\n",
        "predicted_sizes = np.round(clf.predict(prices_poly))"
      ],
      "metadata": {
        "id": "OCRN63iSl56u"
      },
      "execution_count": 4,
      "outputs": []
    },
    {
      "cell_type": "code",
      "source": [
        "import numpy as np\n",
        "import itertools\n",
        "\n",
        "class PolynomialFeatures:\n",
        "    def __init__(self, degree=2):\n",
        "        self.degree = degree\n",
        "    \n",
        "    def fit_transform(self, X):\n",
        "        nvars = X.shape[1]\n",
        "        var_combos = []\n",
        "        \n",
        "        for i in range(0, self.degree):\n",
        "            var_combos += itertools.combinations_with_replacement(set(range(nvars)), i + 1)\n",
        "        \n",
        "        mat = np.zeros((X.shape[0], len(var_combos)))\n",
        "        \n",
        "        for i, var_combo in enumerate(var_combos):\n",
        "            mat[:, i] = np.prod(X[:, var_combo], axis=1)\n",
        "        \n",
        "        return mat\n",
        "\n",
        "class LinearRegression:\n",
        "    def __init__(self, degree=2):\n",
        "        self.degree = degree\n",
        "    \n",
        "    def fit(self, X, y):\n",
        "        self.betas = np.linalg.inv(X.T @ X) @ X.T @ y\n",
        "        \n",
        "    def predict(self, X):\n",
        "        return X @ self.betas\n",
        "\n",
        "poly = PolynomialFeatures(degree=2)\n",
        "prices_poly = poly.fit_transform(prices)\n",
        "\n",
        "clf = LinearRegression()\n",
        "clf.fit(prices_poly, sizes)\n",
        "predicted_sizes = np.round(clf.predict(prices_poly))"
      ],
      "metadata": {
        "id": "_DZoBw-bl88A"
      },
      "execution_count": 5,
      "outputs": []
    },
    {
      "cell_type": "code",
      "source": [
        "import matplotlib.pyplot as plt\n",
        "plt.style.use('fivethirtyeight')\n",
        "\n",
        "pd.Series((sizes - predicted_sizes).flatten()).value_counts().sort_index().plot.bar(\n",
        "    title='$y - \\hat{y}$'\n",
        ")"
      ],
      "metadata": {
        "colab": {
          "base_uri": "https://localhost:8080/",
          "height": 360
        },
        "id": "3zCpDrcAmVYb",
        "outputId": "e2d66c86-90be-4a24-9861-baa5bcabfbf1"
      },
      "execution_count": 6,
      "outputs": [
        {
          "output_type": "execute_result",
          "data": {
            "text/plain": [
              "<matplotlib.axes._subplots.AxesSubplot at 0x7f0bf18aec90>"
            ]
          },
          "metadata": {},
          "execution_count": 6
        },
        {
          "output_type": "display_data",
          "data": {
            "text/plain": [
              "<Figure size 432x288 with 1 Axes>"
            ],
            "image/png": "[encoded data removed]"
          },
          "metadata": {}
        }
      ]
    },
    {
      "cell_type": "code",
      "source": [
        "pd.Series(\n",
        "    np.abs((sizes - predicted_sizes).flatten()) <= 1\n",
        ").value_counts().plot.bar(title='Accuracy Within 1 Class')"
      ],
      "metadata": {
        "colab": {
          "base_uri": "https://localhost:8080/",
          "height": 341
        },
        "id": "wncNfodjmbxv",
        "outputId": "83d8c444-3c8e-4d08-dadf-680fdae06b13"
      },
      "execution_count": 7,
      "outputs": [
        {
          "output_type": "execute_result",
          "data": {
            "text/plain": [
              "<matplotlib.axes._subplots.AxesSubplot at 0x7f0bf17f6490>"
            ]
          },
          "metadata": {},
          "execution_count": 7
        },
        {
          "output_type": "display_data",
          "data": {
            "text/plain": [
              "<Figure size 432x288 with 1 Axes>"
            ],
            "image/png": "[encoded data removed]"
          },
          "metadata": {}
        }
      ]
    },
    {
      "cell_type": "code",
      "source": [
        ""
      ],
      "metadata": {
        "id": "tcS1V3qKmey8"
      },
      "execution_count": null,
      "outputs": []
    }
  ]
}